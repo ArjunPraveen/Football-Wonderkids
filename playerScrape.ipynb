{
 "cells": [
  {
   "cell_type": "markdown",
   "metadata": {},
   "source": [
    "### Installing dependencies"
   ]
  },
  {
   "cell_type": "code",
   "execution_count": 29,
   "metadata": {
    "tags": []
   },
   "outputs": [
    {
     "name": "stdout",
     "output_type": "stream",
     "text": [
      "Requirement already satisfied: pandas in c:\\users\\arjun\\anaconda3\\lib\\site-packages (0.25.1)\n",
      "Requirement already satisfied: python-dateutil>=2.6.1 in c:\\users\\arjun\\anaconda3\\lib\\site-packages (from pandas) (2.8.0)\n",
      "Requirement already satisfied: numpy>=1.13.3 in c:\\users\\arjun\\anaconda3\\lib\\site-packages (from pandas) (1.16.5)\n",
      "Requirement already satisfied: pytz>=2017.2 in c:\\users\\arjun\\anaconda3\\lib\\site-packages (from pandas) (2019.3)\n",
      "Requirement already satisfied: six>=1.5 in c:\\users\\arjun\\anaconda3\\lib\\site-packages (from python-dateutil>=2.6.1->pandas) (1.12.0)\n",
      "Requirement already satisfied: numpy in c:\\users\\arjun\\anaconda3\\lib\\site-packages (1.16.5)\n",
      "Requirement already satisfied: bs4 in c:\\users\\arjun\\anaconda3\\lib\\site-packages (0.0.1)\n",
      "Requirement already satisfied: beautifulsoup4 in c:\\users\\arjun\\anaconda3\\lib\\site-packages (from bs4) (4.8.0)\n",
      "Requirement already satisfied: soupsieve>=1.2 in c:\\users\\arjun\\anaconda3\\lib\\site-packages (from beautifulsoup4->bs4) (1.9.3)\n",
      "Requirement already satisfied: datetime in c:\\users\\arjun\\anaconda3\\lib\\site-packages (4.3)\n",
      "Requirement already satisfied: zope.interface in c:\\users\\arjun\\anaconda3\\lib\\site-packages (from datetime) (4.7.1)\n",
      "Requirement already satisfied: pytz in c:\\users\\arjun\\anaconda3\\lib\\site-packages (from datetime) (2019.3)\n",
      "Requirement already satisfied: setuptools in c:\\users\\arjun\\anaconda3\\lib\\site-packages (from zope.interface->datetime) (45.1.0)\n",
      "Requirement already satisfied: selenium in c:\\users\\arjun\\anaconda3\\lib\\site-packages (3.141.0)\n",
      "Requirement already satisfied: urllib3 in c:\\users\\arjun\\anaconda3\\lib\\site-packages (from selenium) (1.24.2)\n",
      "Requirement already satisfied: lxml in c:\\users\\arjun\\anaconda3\\lib\\site-packages (4.4.1)\n"
     ]
    }
   ],
   "source": [
    "import sys\n",
    "!{sys.executable} -m pip install pandas\n",
    "!{sys.executable} -m pip install numpy\n",
    "!{sys.executable} -m pip install bs4\n",
    "!{sys.executable} -m pip install datetime\n",
    "!{sys.executable} -m pip install selenium\n",
    "!{sys.executable} -m pip install lxml\n",
    "\n"
   ]
  },
  {
   "cell_type": "markdown",
   "metadata": {},
   "source": [
    "### Imports"
   ]
  },
  {
   "cell_type": "code",
   "execution_count": 91,
   "metadata": {},
   "outputs": [],
   "source": [
    "import pandas as pd\n",
    "import time\n",
    "import bs4 as bs\n",
    "import urllib.request\n",
    "import datetime\n",
    "\n",
    "from bs4 import BeautifulSoup\n",
    "import urllib.request\n",
    "from urllib.request import urlopen\n",
    "from selenium import webdriver\n",
    "from selenium.webdriver.common.by import By\n",
    "from selenium.webdriver.support import expected_conditions as EC\n",
    "from selenium.webdriver.support.ui import WebDriverWait\n",
    "import operator\n",
    "from datetime import date\n",
    "from selenium.common.exceptions import TimeoutException\n",
    "from selenium.common.exceptions import SessionNotCreatedException"
   ]
  },
  {
   "cell_type": "markdown",
   "metadata": {},
   "source": [
    "### Scraping from [https://fmdataba.com/]"
   ]
  },
  {
   "cell_type": "markdown",
   "metadata": {},
   "source": [
    "### Configuration"
   ]
  },
  {
   "cell_type": "code",
   "execution_count": 32,
   "metadata": {},
   "outputs": [
    {
     "name": "stdout",
     "output_type": "stream",
     "text": [
      "https://fmdataba.com/football-manager-2020-wonderkids-best-players/?col=age&sort=asc\n"
     ]
    }
   ],
   "source": [
    "def configure():\n",
    "    try:\n",
    "        options = webdriver.ChromeOptions()\n",
    "        options.add_argument('--log-level=3')\n",
    "        #options.add_argument('headless')\n",
    "        options.add_argument('--no-sandbox')\n",
    "        options.add_experimental_option('excludeSwitches', ['enable-logging'])\n",
    "        options.add_argument('load-extension=' + \"C:/Users/arjun/AppData/Local/Google/Chrome/User Data/Default/Extensions/gighmmpiobklfepjocnamgkkbiglidom/4.15.0_0\")\n",
    "        driver = webdriver.Chrome(\"C:/Users/arjun/Downloads/chromedriver_win32/chromedriver.exe\", options=options)\n",
    "        return driver\n",
    "    except SessionNotCreatedException:\n",
    "        print(\"Driver forcefully shut!\")  \n",
    "j=\"\"\n",
    "url = \"https://fmdataba.com/football-manager-2020-wonderkids-best-players/\" + j +  \"?col=age&sort=asc\"\n",
    "print(url)\n",
    "#driver = configure()"
   ]
  },
  {
   "cell_type": "markdown",
   "metadata": {},
   "source": [
    "### URL generator"
   ]
  },
  {
   "cell_type": "code",
   "execution_count": 10,
   "metadata": {},
   "outputs": [],
   "source": [
    "def urlGen(j):\n",
    "    if j==0:\n",
    "        url = \"https://fmdataba.com/football-manager-2020-wonderkids-best-players/?col=age&sort=asc\"\n",
    "    else:\n",
    "        url = \"https://fmdataba.com/football-manager-2020-wonderkids-best-players/\" + str(j) +  \"?col=age&sort=asc\"\n",
    "    return url\n"
   ]
  },
  {
   "cell_type": "markdown",
   "metadata": {},
   "source": [
    "### Player Links"
   ]
  },
  {
   "cell_type": "code",
   "execution_count": 13,
   "metadata": {
    "tags": []
   },
   "outputs": [
    {
     "name": "stdout",
     "output_type": "stream",
     "text": [
      "https://fmdataba.com/20/p/178394/lucas-gourna-douath/\n",
      "https://fmdataba.com/20/p/181916/fehmi-koc/\n",
      "https://fmdataba.com/20/p/208062/kacper-kozlowski/\n",
      "https://fmdataba.com/20/p/167086/rayan-cherki/\n",
      "https://fmdataba.com/20/p/174776/omer-beyaz/\n",
      "https://fmdataba.com/20/p/195316/nico-serrano/\n",
      "https://fmdataba.com/20/p/166264/nohan-kenneh/\n",
      "https://fmdataba.com/20/p/154032/harvey-elliott/\n",
      "https://fmdataba.com/20/p/156764/pedri/\n",
      "https://fmdataba.com/20/p/167056/naci-unuvar/\n",
      "https://fmdataba.com/20/p/212194/marcos-leonardo/\n",
      "https://fmdataba.com/20/p/154398/ansu-fati/\n",
      "https://fmdataba.com/20/p/239558/diogo-nascimento/\n",
      "https://fmdataba.com/20/p/156143/morgan-rogers/\n",
      "https://fmdataba.com/20/p/149355/jude-bellingham/\n",
      "https://fmdataba.com/20/p/159994/marco-kana/\n",
      "https://fmdataba.com/20/p/157099/ilaix-moriba/\n",
      "https://fmdataba.com/20/p/176513/florent-da-silva/\n",
      "https://fmdataba.com/20/p/151981/sebastiano-esposito/\n",
      "https://fmdataba.com/20/p/164757/adil-aouchiche/\n",
      "https://fmdataba.com/20/p/218340/david-de-la-vibora/\n",
      "https://fmdataba.com/20/p/149599/eduardo-camavinga/\n",
      "https://fmdataba.com/20/p/150515/karamoko-dembele/\n",
      "https://fmdataba.com/20/p/163497/thimothee-pembele/\n",
      "https://fmdataba.com/20/p/209550/gabriel-veron/\n",
      "https://fmdataba.com/20/p/152118/fabio-silva/\n",
      "https://fmdataba.com/20/p/155686/matias-arezo/\n",
      "https://fmdataba.com/20/p/161380/ronaldo-camara/\n",
      "https://fmdataba.com/20/p/160226/hannibal-mejbri/\n",
      "https://fmdataba.com/20/p/161958/stefan-bajic/\n",
      "https://fmdataba.com/20/p/147412/mason-greenwood/\n",
      "https://fmdataba.com/20/p/219584/reinier/\n",
      "https://fmdataba.com/20/p/158203/willem-geubbels/\n",
      "https://fmdataba.com/20/p/153788/jeremy-doku/\n",
      "https://fmdataba.com/20/p/174112/manuel-gasparini/\n",
      "https://fmdataba.com/20/p/174850/daniel-maldini/\n",
      "https://fmdataba.com/20/p/161958/stefan-bajic/\n",
      "https://fmdataba.com/20/p/150652/benjamin-nygren/\n",
      "https://fmdataba.com/20/p/155317/matias-palacios/\n",
      "https://fmdataba.com/20/p/155804/eddie-salcedo/\n",
      "https://fmdataba.com/20/p/149306/mohammed-ihattaren/\n",
      "https://fmdataba.com/20/p/159913/ki-jana-hoever/\n",
      "https://fmdataba.com/20/p/162832/lazar-samardzic/\n",
      "https://fmdataba.com/20/p/195886/aimar-oroz/\n",
      "https://fmdataba.com/20/p/157884/faustino-anjorin/\n",
      "https://fmdataba.com/20/p/153570/ryan-gravenberch/\n",
      "https://fmdataba.com/20/p/166731/pelayo-morilla/\n",
      "https://fmdataba.com/20/p/161342/armel-bella-kotchap/\n",
      "https://fmdataba.com/20/p/177508/kaio-jorge/\n",
      "https://fmdataba.com/20/p/207730/lazaro/\n",
      "https://fmdataba.com/20/p/159607/kenneth-taylor/\n",
      "https://fmdataba.com/20/p/153892/troy-parrott/\n",
      "https://fmdataba.com/20/p/189823/rober/\n",
      "https://fmdataba.com/20/p/157327/vincenzo-millico/\n",
      "https://fmdataba.com/20/p/150806/sergio-gomez/\n",
      "https://fmdataba.com/20/p/148555/rodrygo/\n",
      "https://fmdataba.com/20/p/149149/myron-boadu/\n",
      "https://fmdataba.com/20/p/156041/emanuel-vignato/\n",
      "https://fmdataba.com/20/p/147276/callum-hudson-odoi/\n",
      "https://fmdataba.com/20/p/156738/claudio-gomes/\n",
      "https://fmdataba.com/20/p/150653/yari-verschaeren/\n",
      "https://fmdataba.com/20/p/154907/pedro-de-la-vega/\n",
      "https://fmdataba.com/20/p/148555/rodrygo/\n",
      "https://fmdataba.com/20/p/149149/myron-boadu/\n",
      "https://fmdataba.com/20/p/156041/emanuel-vignato/\n",
      "https://fmdataba.com/20/p/189823/rober/\n",
      "https://fmdataba.com/20/p/157327/vincenzo-millico/\n",
      "https://fmdataba.com/20/p/150806/sergio-gomez/\n",
      "https://fmdataba.com/20/p/212172/lucas-lourenco/\n",
      "https://fmdataba.com/20/p/148200/dominik-szoboszlai/\n",
      "https://fmdataba.com/20/p/151534/yacine-adli/\n",
      "https://fmdataba.com/20/p/152840/pietro-pellegri/\n",
      "https://fmdataba.com/20/p/230258/matheus-rampon/\n",
      "https://fmdataba.com/20/p/149682/takefusa-kubo/\n",
      "https://fmdataba.com/20/p/147276/callum-hudson-odoi/\n",
      "https://fmdataba.com/20/p/156738/claudio-gomes/\n",
      "https://fmdataba.com/20/p/163022/nicol-armini/\n",
      "https://fmdataba.com/20/p/154829/bryan-gil/\n",
      "https://fmdataba.com/20/p/157383/goncalo-ramos/\n",
      "https://fmdataba.com/20/p/151094/thiago-almada/\n",
      "https://fmdataba.com/20/p/153382/rayan-a-t-nouri/\n",
      "https://fmdataba.com/20/p/155358/antonio-marin/\n",
      "https://fmdataba.com/20/p/148625/william-saliba/\n",
      "https://fmdataba.com/20/p/159027/joshua-zirkzee/\n",
      "https://fmdataba.com/20/p/149785/paulinho/\n",
      "https://fmdataba.com/20/p/154403/lee-kang-in/\n",
      "https://fmdataba.com/20/p/152636/sergino-dest/\n",
      "https://fmdataba.com/20/p/147886/hamed-junior-traore/\n",
      "https://fmdataba.com/20/p/158109/gabriele-corbo/\n",
      "https://fmdataba.com/20/p/151147/andre-anderson/\n",
      "https://fmdataba.com/20/p/151594/fausto-vera/\n",
      "https://fmdataba.com/20/p/154100/jorge-cuenca/\n",
      "https://fmdataba.com/20/p/271372/antony/\n",
      "https://fmdataba.com/20/p/149162/moussa-diaby/\n",
      "https://fmdataba.com/20/p/156940/gianluca-gaetano/\n",
      "https://fmdataba.com/20/p/150084/juan-miranda/\n",
      "https://fmdataba.com/20/p/162909/ebrima-colley/\n",
      "https://fmdataba.com/20/p/152655/francisco-trinc-o/\n",
      "https://fmdataba.com/20/p/148148/morgan-gibbs-white/\n",
      "https://fmdataba.com/20/p/147957/jonathan-david/\n",
      "https://fmdataba.com/20/p/151338/agustin-almendra/\n",
      "https://fmdataba.com/20/p/165353/raoul-bellanova/\n",
      "https://fmdataba.com/20/p/148612/rhian-brewster/\n",
      "https://fmdataba.com/20/p/219426/victor-bobsin/\n",
      "https://fmdataba.com/20/p/149680/brahim-diaz/\n",
      "https://fmdataba.com/20/p/151687/thomas-buitink/\n",
      "https://fmdataba.com/20/p/149805/sandro-tonali/\n",
      "https://fmdataba.com/20/p/152277/davide-bettella/\n",
      "https://fmdataba.com/20/p/149217/tete/\n",
      "https://fmdataba.com/20/p/153110/sekou-ko-ta/\n",
      "https://fmdataba.com/20/p/163579/miguel-baeza/\n",
      "https://fmdataba.com/20/p/153269/giacomo-raspadori/\n",
      "https://fmdataba.com/20/p/147126/matthijs-de-ligt/\n",
      "https://fmdataba.com/20/p/148726/jean-clair-todibo/\n",
      "https://fmdataba.com/20/p/147812/alexander-isak/\n",
      "https://fmdataba.com/20/p/154400/abel-ruiz/\n",
      "https://fmdataba.com/20/p/148894/manor-solomon/\n",
      "https://fmdataba.com/20/p/152545/maxence-caqueret/\n",
      "https://fmdataba.com/20/p/147413/ryan-sessegnon/\n",
      "https://fmdataba.com/20/p/150925/ferran-torres/\n",
      "https://fmdataba.com/20/p/151377/amine-gouiri/\n",
      "https://fmdataba.com/20/p/147495/reece-james/\n",
      "https://fmdataba.com/20/p/151592/diogo-costa/\n",
      "https://fmdataba.com/20/p/154059/roberto-lopez/\n",
      "https://fmdataba.com/20/p/148651/riqui-puig/\n",
      "https://fmdataba.com/20/p/152087/oumar-solet/\n",
      "https://fmdataba.com/20/p/147853/zinho-vanheusden/\n",
      "https://fmdataba.com/20/p/147314/moise-kean/\n",
      "https://fmdataba.com/20/p/156806/alessandro-plizzari/\n",
      "https://fmdataba.com/20/p/150003/dejan-kulusevski/\n",
      "https://fmdataba.com/20/p/150095/diego-lainez/\n",
      "https://fmdataba.com/20/p/154866/jose-juan-macias/\n",
      "https://fmdataba.com/20/p/149333/marcos-ant-nio/\n",
      "https://fmdataba.com/20/p/147466/nicol-zaniolo/\n",
      "https://fmdataba.com/20/p/149336/ezequiel-barco/\n",
      "https://fmdataba.com/20/p/147523/diogo-dalot/\n",
      "https://fmdataba.com/20/p/148558/samuel-chukwueze/\n",
      "https://fmdataba.com/20/p/155363/andriy-lunin/\n",
      "https://fmdataba.com/20/p/149631/marquinhos-cipriano/\n",
      "https://fmdataba.com/20/p/147740/ruben-vinagre/\n",
      "https://fmdataba.com/20/p/148712/calvin-stengs/\n",
      "https://fmdataba.com/20/p/152088/thomas-basila/\n",
      "https://fmdataba.com/20/p/147319/declan-rice/\n",
      "https://fmdataba.com/20/p/148144/juan-hernandez/\n",
      "https://fmdataba.com/20/p/155058/mohammed-salisu/\n",
      "https://fmdataba.com/20/p/149349/alban-lafont/\n",
      "https://fmdataba.com/20/p/147601/martin-degaard/\n",
      "https://fmdataba.com/20/p/159753/jonathan-gonzalez/\n",
      "https://fmdataba.com/20/p/147768/fernando/\n",
      "https://fmdataba.com/20/p/148843/hannes-wolf/\n",
      "https://fmdataba.com/20/p/152088/thomas-basila/\n",
      "https://fmdataba.com/20/p/147916/andrea-pinamonti/\n",
      "https://fmdataba.com/20/p/154572/alejandro-pozo/\n",
      "https://fmdataba.com/20/p/147273/mason-mount/\n",
      "https://fmdataba.com/20/p/155058/mohammed-salisu/\n",
      "https://fmdataba.com/20/p/149349/alban-lafont/\n",
      "https://fmdataba.com/20/p/147601/martin-degaard/\n",
      "https://fmdataba.com/20/p/159753/jonathan-gonzalez/\n",
      "https://fmdataba.com/20/p/147768/fernando/\n",
      "https://fmdataba.com/20/p/148843/hannes-wolf/\n",
      "https://fmdataba.com/20/p/156473/javier-montero/\n",
      "https://fmdataba.com/20/p/149850/manu-morlanes/\n",
      "https://fmdataba.com/20/p/149950/krepin-diatta/\n",
      "https://fmdataba.com/20/p/150089/exequiel-palacios/\n",
      "https://fmdataba.com/20/p/149305/emerson/\n",
      "https://fmdataba.com/20/p/147436/moussa-wague/\n",
      "https://fmdataba.com/20/p/148272/victor-osimhen/\n",
      "https://fmdataba.com/20/p/149396/matheus-cunha/\n",
      "https://fmdataba.com/20/p/158608/daniel-braganca/\n"
     ]
    },
    {
     "name": "stdout",
     "output_type": "stream",
     "text": [
      "https://fmdataba.com/20/p/148621/luca-pellegrini/\n",
      "https://fmdataba.com/20/p/151911/arnor-sigur-sson/\n",
      "https://fmdataba.com/20/p/154388/wuilker-farinez/\n",
      "https://fmdataba.com/20/p/147978/kasper-dolberg/\n",
      "https://fmdataba.com/20/p/147606/moussa-djenepo/\n",
      "https://fmdataba.com/20/p/153449/cesar-montes/\n"
     ]
    }
   ],
   "source": [
    "try:\n",
    "    driver = configure() \n",
    "    playerLinks = []\n",
    "    \n",
    "    for j in range(6):\n",
    "        driver.get(urlGen(j))\n",
    "        EC.presence_of_all_elements_located((By.XPATH, '//*[@id=\"tablo61\"]/tbody'))\n",
    "        cells = driver.find_elements_by_xpath('//*[@id=\"tablo61\"]/tbody/tr/td[3]/a')\n",
    "        \n",
    "        for i in cells:\n",
    "            print(i.get_attribute('href'))\n",
    "            playerLinks.append(i.get_attribute('href'))\n",
    "        \n",
    "        driver.implicitly_wait(5)\n",
    "\n",
    "except TimeoutException:\n",
    "        print(\"Loading took too much time!\")\n",
    "except SessionNotCreatedException:\n",
    "        print(\"Driver forcefully shut!\")   \n",
    "\n",
    "\n",
    "        "
   ]
  },
  {
   "cell_type": "markdown",
   "metadata": {},
   "source": [
    "### Helper functions"
   ]
  },
  {
   "cell_type": "code",
   "execution_count": 101,
   "metadata": {},
   "outputs": [
    {
     "data": {
      "text/plain": [
       "41500000.0"
      ]
     },
     "execution_count": 101,
     "metadata": {},
     "output_type": "execute_result"
    }
   ],
   "source": [
    "def calculateAge(birthDate): \n",
    "    today = datetime.date.today() \n",
    "    age = today.year - birthDate.year - ((today.month, today.day) < (birthDate.month, birthDate.day)) \n",
    "    return age \n",
    "\n",
    "def calculateValue(val):\n",
    "    if operator.contains(val,'M'):\n",
    "            if(operator.contains(val,'.')):\n",
    "                pos = len(val)-val.find('.')-1 #length from the end\n",
    "                a1 = val.replace('.', '', 1)\n",
    "                num = (int(a1[:len(a1)-1])*1000000)/(10**(pos-1))\n",
    "                val = num\n",
    "            else:\n",
    "                val=int(val[ :len(val)-1])*(1000000)\n",
    "    elif operator.contains(val,'K'):\n",
    "        if(operator.contains(val,'.')):\n",
    "            pos = len(val)-val.find('.')-1 #length from the end\n",
    "            a1 = val.replace('.', '', 1)\n",
    "            num = (int(a1[:len(a1)-1])*1000)/(10**(pos-1))\n",
    "            val = num\n",
    "        else:\n",
    "            val = int(val[ :len(val)-1])*(1000)\n",
    "    return val\n",
    "\n",
    "calculateValue('41.5M')"
   ]
  },
  {
   "cell_type": "code",
   "execution_count": 116,
   "metadata": {},
   "outputs": [
    {
     "name": "stdout",
     "output_type": "stream",
     "text": [
      "[16, 13, 13, 10, 15, 15, 9, 6]\n"
     ]
    }
   ],
   "source": [
    "driver = configure() \n",
    "driver.get(\"https://fmdataba.com/20/p/147412/mason-greenwood/\")\n",
    "driver.implicitly_wait(3)\n",
    "# AGE\n",
    "details = driver.find_elements_by_xpath('/html/body/div[3]/div/div/div[2]/div[1]/table[2]/tbody/tr[4]/td[2]')\n",
    "det  = details[0].get_attribute('textContent').split()\n",
    "a,b,c = (int(x) for x in det[-1].split('(')[1].split(')')[0].split('/'))\n",
    "age = calculateAge(datetime.date(c,b,a))                                                             \n",
    "\n",
    "# HEIGHT, WEIGHT\n",
    "details = driver.find_elements_by_xpath('/html/body/div[3]/div/div/div[2]/div[1]/table[2]/tbody/tr[6]/td/strong')\n",
    "height, weight = (int(x.get_attribute('textContent').split()[0]) for x in details)             \n",
    "\n",
    "# VALUE\n",
    "details = driver.find_elements_by_xpath('/html/body/div[3]/div/div/div[2]/div[1]/table[2]/tbody/tr[5]/td[2]/strong')\n",
    "value = int(calculateValue(details[0].get_attribute('textContent').split()[-1]))                         \n",
    "\n",
    "# TECHNICAL\n",
    "technical = driver.find_elements_by_xpath('/html/body/div[3]/div/div/div[2]/div[2]/div[2]/div/div[2]/table/tbody/tr')\n",
    "technicalStats = []\n",
    "for i in technical:\n",
    "    technicalStats.append(int(i.find_elements_by_tag_name('td')[1].get_attribute('textContent')))\n",
    "\n",
    "# MENTAL\n",
    "mental = driver.find_elements_by_xpath('/html/body/div[3]/div/div/div[2]/div[2]/div[3]/div/div[2]/table/tbody/tr')\n",
    "mentalStats = []\n",
    "for i in mental:\n",
    "    mentalStats.append(int(i.find_elements_by_tag_name('td')[1].get_attribute('textContent')))\n",
    "\n",
    "# PHYSICAL\n",
    "physical = driver.find_elements_by_xpath('/html/body/div[3]/div/div/div[2]/div[2]/div[4]/div[1]/div/div[2]/table/tbody/tr')\n",
    "physicalStats = []\n",
    "for i in physical:\n",
    "    physicalStats.append(int(i.find_elements_by_tag_name('td')[1].get_attribute('textContent')))\n",
    "\n",
    "print(physicalStats)\n",
    "driver.close()\n",
    "\n",
    "\n",
    "\n",
    "# for i in playerLinks:w\n",
    "#     driver.get(i)"
   ]
  },
  {
   "cell_type": "code",
   "execution_count": 78,
   "metadata": {},
   "outputs": [
    {
     "ename": "IndexError",
     "evalue": "list index out of range",
     "output_type": "error",
     "traceback": [
      "\u001b[1;31m---------------------------------------------------------------------------\u001b[0m",
      "\u001b[1;31mIndexError\u001b[0m                                Traceback (most recent call last)",
      "\u001b[1;32m<ipython-input-78-66532734383b>\u001b[0m in \u001b[0;36m<module>\u001b[1;34m\u001b[0m\n\u001b[1;32m----> 1\u001b[1;33m \u001b[0mdetails\u001b[0m\u001b[1;33m[\u001b[0m\u001b[1;36m2\u001b[0m\u001b[1;33m]\u001b[0m\u001b[1;33m\u001b[0m\u001b[1;33m\u001b[0m\u001b[0m\n\u001b[0m",
      "\u001b[1;31mIndexError\u001b[0m: list index out of range"
     ]
    }
   ],
   "source": []
  }
 ],
 "metadata": {
  "kernelspec": {
   "display_name": "Python 3",
   "language": "python",
   "name": "python3"
  },
  "language_info": {
   "codemirror_mode": {
    "name": "ipython",
    "version": 3
   },
   "file_extension": ".py",
   "mimetype": "text/x-python",
   "name": "python",
   "nbconvert_exporter": "python",
   "pygments_lexer": "ipython3",
   "version": "3.7.4"
  }
 },
 "nbformat": 4,
 "nbformat_minor": 2
}
